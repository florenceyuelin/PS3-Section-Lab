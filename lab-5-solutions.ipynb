{
 "cells": [
  {
   "cell_type": "markdown",
   "metadata": {},
   "source": [
    "## Lab 5: Randomization and Experiments\n",
    "\n",
    "Let's continue to use the anchor data for today's coding practice. Students are tasked to guess the maximum speed of a house cat in miles per hour. \n",
    "\n",
    "In the \"high\" condition, students were prompted with \n",
    "\n",
    "\"Is the maximum speed of an average house cat FASTER or SLOWER than **40** miles per hour?\"\n",
    "\n",
    "In the \"low\" condition, students were prompted with\n",
    "\n",
    "\"Is the maximum speed of an average house cat FASTER or SLOWER than **3** miles per hour?\"\n",
    "\n",
    "The student then had to provide an estimate for the speed of a house cat. We want to learn: does anchoring (receiving messages) have an effect on students' estimates? Let's assume that students were randomly assigned to each group.\n",
    "\n",
    "-------\n",
    "\n",
    "**Data Dictionary/Codebook**\n",
    "\n",
    "`cat`: estimated speed in mph\n",
    "\n",
    "`before`: 1 = student knew the exercise beforehand, 0 = student did not know\n",
    "\n",
    "`live.cats`: 1 = student lives with cats, 0 = student does not live with cats\n",
    "\n",
    "`cond`: 1 = student was exposed to the \"high\" condition, 0 = student was exposed to the \"low\" condition "
   ]
  },
  {
   "cell_type": "code",
   "execution_count": 1,
   "metadata": {},
   "outputs": [
    {
     "data": {
      "text/html": [
       "<table class=\"dataframe\">\n",
       "<caption>A data.frame: 6 × 4</caption>\n",
       "<thead>\n",
       "\t<tr><th></th><th scope=col>cat</th><th scope=col>before</th><th scope=col>live.cats</th><th scope=col>cond</th></tr>\n",
       "\t<tr><th></th><th scope=col>&lt;int&gt;</th><th scope=col>&lt;int&gt;</th><th scope=col>&lt;int&gt;</th><th scope=col>&lt;int&gt;</th></tr>\n",
       "</thead>\n",
       "<tbody>\n",
       "\t<tr><th scope=row>1</th><td> 2</td><td>0</td><td>0</td><td>0</td></tr>\n",
       "\t<tr><th scope=row>2</th><td> 1</td><td>0</td><td>0</td><td>1</td></tr>\n",
       "\t<tr><th scope=row>3</th><td>30</td><td>0</td><td>0</td><td>1</td></tr>\n",
       "\t<tr><th scope=row>4</th><td>25</td><td>0</td><td>0</td><td>1</td></tr>\n",
       "\t<tr><th scope=row>5</th><td>17</td><td>0</td><td>0</td><td>0</td></tr>\n",
       "\t<tr><th scope=row>6</th><td>50</td><td>0</td><td>0</td><td>1</td></tr>\n",
       "</tbody>\n",
       "</table>\n"
      ],
      "text/latex": [
       "A data.frame: 6 × 4\n",
       "\\begin{tabular}{r|llll}\n",
       "  & cat & before & live.cats & cond\\\\\n",
       "  & <int> & <int> & <int> & <int>\\\\\n",
       "\\hline\n",
       "\t1 &  2 & 0 & 0 & 0\\\\\n",
       "\t2 &  1 & 0 & 0 & 1\\\\\n",
       "\t3 & 30 & 0 & 0 & 1\\\\\n",
       "\t4 & 25 & 0 & 0 & 1\\\\\n",
       "\t5 & 17 & 0 & 0 & 0\\\\\n",
       "\t6 & 50 & 0 & 0 & 1\\\\\n",
       "\\end{tabular}\n"
      ],
      "text/markdown": [
       "\n",
       "A data.frame: 6 × 4\n",
       "\n",
       "| <!--/--> | cat &lt;int&gt; | before &lt;int&gt; | live.cats &lt;int&gt; | cond &lt;int&gt; |\n",
       "|---|---|---|---|---|\n",
       "| 1 |  2 | 0 | 0 | 0 |\n",
       "| 2 |  1 | 0 | 0 | 1 |\n",
       "| 3 | 30 | 0 | 0 | 1 |\n",
       "| 4 | 25 | 0 | 0 | 1 |\n",
       "| 5 | 17 | 0 | 0 | 0 |\n",
       "| 6 | 50 | 0 | 0 | 1 |\n",
       "\n"
      ],
      "text/plain": [
       "  cat before live.cats cond\n",
       "1  2  0      0         0   \n",
       "2  1  0      0         1   \n",
       "3 30  0      0         1   \n",
       "4 25  0      0         1   \n",
       "5 17  0      0         0   \n",
       "6 50  0      0         1   "
      ]
     },
     "metadata": {},
     "output_type": "display_data"
    }
   ],
   "source": [
    "# Load data\n",
    "anchor <- read.csv(\"./Data/anchoring_data_FA20.csv\")\n",
    "head(anchor)"
   ]
  },
  {
   "cell_type": "markdown",
   "metadata": {},
   "source": [
    "Let's then \"clean\" the dataset. We want to remove some potentially problematic variables; we do NOT want to study people who (1) know about the goal of the experiment or (2) have lived with a cat, since they'll be more knowledgeable and have different answers.\n",
    "\n",
    "**Question 1**\n",
    "\n",
    "We do so by subsetting the data, so we only get (1) the participant has NOT lived with a cat, and (2) the participant was NOT aware of the experiment/exercise. We save this to a new variable `focus_anchor`."
   ]
  },
  {
   "cell_type": "code",
   "execution_count": 2,
   "metadata": {},
   "outputs": [
    {
     "data": {
      "text/html": [
       "<table class=\"dataframe\">\n",
       "<caption>A data.frame: 6 × 4</caption>\n",
       "<thead>\n",
       "\t<tr><th></th><th scope=col>cat</th><th scope=col>before</th><th scope=col>live.cats</th><th scope=col>cond</th></tr>\n",
       "\t<tr><th></th><th scope=col>&lt;int&gt;</th><th scope=col>&lt;int&gt;</th><th scope=col>&lt;int&gt;</th><th scope=col>&lt;int&gt;</th></tr>\n",
       "</thead>\n",
       "<tbody>\n",
       "\t<tr><th scope=row>1</th><td> 2</td><td>0</td><td>0</td><td>0</td></tr>\n",
       "\t<tr><th scope=row>2</th><td> 1</td><td>0</td><td>0</td><td>1</td></tr>\n",
       "\t<tr><th scope=row>3</th><td>30</td><td>0</td><td>0</td><td>1</td></tr>\n",
       "\t<tr><th scope=row>4</th><td>25</td><td>0</td><td>0</td><td>1</td></tr>\n",
       "\t<tr><th scope=row>5</th><td>17</td><td>0</td><td>0</td><td>0</td></tr>\n",
       "\t<tr><th scope=row>6</th><td>50</td><td>0</td><td>0</td><td>1</td></tr>\n",
       "</tbody>\n",
       "</table>\n"
      ],
      "text/latex": [
       "A data.frame: 6 × 4\n",
       "\\begin{tabular}{r|llll}\n",
       "  & cat & before & live.cats & cond\\\\\n",
       "  & <int> & <int> & <int> & <int>\\\\\n",
       "\\hline\n",
       "\t1 &  2 & 0 & 0 & 0\\\\\n",
       "\t2 &  1 & 0 & 0 & 1\\\\\n",
       "\t3 & 30 & 0 & 0 & 1\\\\\n",
       "\t4 & 25 & 0 & 0 & 1\\\\\n",
       "\t5 & 17 & 0 & 0 & 0\\\\\n",
       "\t6 & 50 & 0 & 0 & 1\\\\\n",
       "\\end{tabular}\n"
      ],
      "text/markdown": [
       "\n",
       "A data.frame: 6 × 4\n",
       "\n",
       "| <!--/--> | cat &lt;int&gt; | before &lt;int&gt; | live.cats &lt;int&gt; | cond &lt;int&gt; |\n",
       "|---|---|---|---|---|\n",
       "| 1 |  2 | 0 | 0 | 0 |\n",
       "| 2 |  1 | 0 | 0 | 1 |\n",
       "| 3 | 30 | 0 | 0 | 1 |\n",
       "| 4 | 25 | 0 | 0 | 1 |\n",
       "| 5 | 17 | 0 | 0 | 0 |\n",
       "| 6 | 50 | 0 | 0 | 1 |\n",
       "\n"
      ],
      "text/plain": [
       "  cat before live.cats cond\n",
       "1  2  0      0         0   \n",
       "2  1  0      0         1   \n",
       "3 30  0      0         1   \n",
       "4 25  0      0         1   \n",
       "5 17  0      0         0   \n",
       "6 50  0      0         1   "
      ]
     },
     "metadata": {},
     "output_type": "display_data"
    }
   ],
   "source": [
    "# Could you try one-liner codes to generate the new variable focus_anchor?\n",
    "\n",
    "focus_anchor <- subset(anchor, before==0 & live.cats==0)\n",
    "head(focus_anchor)"
   ]
  },
  {
   "cell_type": "markdown",
   "metadata": {},
   "source": [
    "**Question 2**\n",
    "\n",
    "What is the treatment effect of people assigned to the \"high group\" compared to those assigned to the \"low\" group?\n"
   ]
  },
  {
   "cell_type": "code",
   "execution_count": 3,
   "metadata": {},
   "outputs": [],
   "source": [
    "# estimatr is an R package providing a range of commonly-used linear estimators\n",
    "library(estimatr) "
   ]
  },
  {
   "cell_type": "code",
   "execution_count": 4,
   "metadata": {
    "scrolled": true
   },
   "outputs": [
    {
     "data": {
      "text/plain": [
       "Design:  Standard \n",
       "     Estimate Std. Error  t value     Pr(>|t|) CI Lower CI Upper       DF\n",
       "cond  17.4881    2.45516 7.122995 5.837135e-10 12.59595 22.38025 73.87644"
      ]
     },
     "metadata": {},
     "output_type": "display_data"
    }
   ],
   "source": [
    "# What codes are needed in the brackets? You may refer to the R cheatsheet on bcourses\n",
    "difference_in_means(cat ~ cond, focus_anchor, condition1 = '0', condition2 = '1') "
   ]
  },
  {
   "cell_type": "markdown",
   "metadata": {},
   "source": [
    "**Question 3**\n",
    "\n",
    "How should we interpret the estimate?\n",
    "\n",
    "Students primed with the high condition message will estimate the cat speed 17.4881 miles per hour higher than the estimation from students primed with the low condition message."
   ]
  },
  {
   "cell_type": "markdown",
   "metadata": {},
   "source": [
    "**Question 4**\n",
    "\n",
    "What is the standard error?\n",
    "\n",
    "2.757204"
   ]
  }
 ],
 "metadata": {
  "kernelspec": {
   "display_name": "R",
   "language": "R",
   "name": "ir"
  },
  "language_info": {
   "codemirror_mode": "r",
   "file_extension": ".r",
   "mimetype": "text/x-r-source",
   "name": "R",
   "pygments_lexer": "r",
   "version": "4.3.2"
  }
 },
 "nbformat": 4,
 "nbformat_minor": 4
}
