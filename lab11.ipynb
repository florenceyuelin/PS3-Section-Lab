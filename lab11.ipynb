{
 "cells": [
  {
   "cell_type": "markdown",
   "id": "b1001354",
   "metadata": {},
   "source": [
    "# POLSCI 3 Spring 2024 - Yue Lin\n",
    "\n",
    "## Week 11, Multivariate Regression"
   ]
  },
  {
   "cell_type": "markdown",
   "id": "ae4a1a22",
   "metadata": {},
   "source": [
    "We are interested in a classic question in social science: will economic growth lead to increased life expectancy?"
   ]
  },
  {
   "cell_type": "code",
   "execution_count": null,
   "id": "49b930ea-d108-4dcb-b9a3-1f6fda397443",
   "metadata": {},
   "outputs": [],
   "source": [
    "# Let's first run the codes to load data\n",
    "library(ggplot2) # allow us to make some graphs later\n",
    "life_gdp <- read.csv(\"gdp.csv\")\n",
    "head(life_gdp)"
   ]
  },
  {
   "cell_type": "markdown",
   "id": "5a3ee4fd",
   "metadata": {},
   "source": [
    "Note that `gdp_per_capita` is the predictor variable, and `expectancy` is the outcome variable."
   ]
  },
  {
   "cell_type": "code",
   "execution_count": null,
   "id": "80978848-9a47-45a7-823f-ea7e2c0c955d",
   "metadata": {},
   "outputs": [],
   "source": [
    "# The linear relationship between the two variables looks like this:\n",
    "qplot(gdp_per_capita, expectancy, data = life_gdp) + geom_smooth(method=\"lm\")"
   ]
  },
  {
   "cell_type": "markdown",
   "id": "771fbd60",
   "metadata": {},
   "source": [
    "### Quick check 1\n",
    "\n",
    "Let's obtain the formula for the straight line above, by running a regression of `gdp_per_capita` against `expectancy`"
   ]
  },
  {
   "cell_type": "code",
   "execution_count": null,
   "id": "25ff275c-75c6-4e5b-8ccf-2df31a55757e",
   "metadata": {},
   "outputs": [],
   "source": [
    "summary(lm(...))"
   ]
  },
  {
   "cell_type": "markdown",
   "id": "1f450105",
   "metadata": {},
   "source": [
    "### Quick check 2\n",
    "\n",
    "Let's write the mathematical formula of the regression below. "
   ]
  },
  {
   "cell_type": "markdown",
   "id": "10c34d61",
   "metadata": {},
   "source": [
    "..."
   ]
  },
  {
   "cell_type": "markdown",
   "id": "c941a702",
   "metadata": {},
   "source": [
    "### Quick check 3\n",
    "\n",
    "Using the above mathematical formula, what is the predicted life expectancy for a country with GDP per capita of US$20,000?"
   ]
  },
  {
   "cell_type": "code",
   "execution_count": null,
   "id": "b574d28e-eb77-4174-b369-15a359b79ef6",
   "metadata": {},
   "outputs": [],
   "source": [
    "..."
   ]
  },
  {
   "cell_type": "markdown",
   "id": "320dbaf7",
   "metadata": {},
   "source": [
    "### Quick check 4\n",
    "\n",
    "Can you use the regression results above to predict the life expectancy for a country with GDP per capita of US$300,000? If yes, how would you do? If not, why?"
   ]
  },
  {
   "cell_type": "markdown",
   "id": "91d120af",
   "metadata": {},
   "source": [
    "..."
   ]
  },
  {
   "cell_type": "markdown",
   "id": "d5dd20bc",
   "metadata": {},
   "source": [
    "## From now on, we will use similar campaign spending data from this week's lecture."
   ]
  },
  {
   "cell_type": "code",
   "execution_count": null,
   "id": "6926f805-2e34-4a74-a8c1-32f6570fe7b1",
   "metadata": {},
   "outputs": [],
   "source": [
    "# Let's run the codes to load data\n",
    "data <- read.csv(\"ps3-house-election-spending.csv\")\n",
    "head(data)"
   ]
  },
  {
   "cell_type": "markdown",
   "id": "60fec234",
   "metadata": {},
   "source": [
    "Here is a quick rundown of what each column means:\n",
    "\n",
    "- `state`: State (e.g., for CA-13, \"CA\")\n",
    "- `district`: District number (e.g., for CA-13, 13)\n",
    "- `name_dem_cand`: Democrat candidate name in the 2020 US House elections\n",
    "- `name_rep_cand`: Republican candidate name in the 2020 US House elections\n",
    "- `dem_us_house_percent_2020`: Democrat candidate's vote share in 2020 election (percent)\n",
    "- `dem_us_house_percent_2018`: Democrat candidate's vote share in 2018 election (percent)\n",
    "- `dem_won_ushouse_2018`: A Democrat won the US House election in 2018, and so is running for re-election in 2020 (0 = lost, 1 = won)\n",
    "- `clinton_percent_2016`: Clinton vote share in 2016 in the district (percent)\n",
    "- `spending_dem_ushouse_2020`: Democratic US House candidate's spending in 2020, in millions of dollars \n",
    "- `spending_rep_ushouse_2020`: Republican US House candidate's spending in 2020, in millions of dollars "
   ]
  },
  {
   "cell_type": "markdown",
   "id": "d4813486",
   "metadata": {},
   "source": [
    "### Does campaign spending work?\n",
    "\n",
    "We want to see how multivariate regression can help us _try_ (not necessarily succeed) to reduce omitted variable bias when we explore the effects of campaign spending in US elections.\n",
    "\n",
    "Let's begin by subsetting the data to Democratic districts (where Democrats won the house election in 2018):"
   ]
  },
  {
   "cell_type": "code",
   "execution_count": 3,
   "id": "1f15d1de",
   "metadata": {},
   "outputs": [],
   "source": [
    "democrats <- ..."
   ]
  },
  {
   "cell_type": "markdown",
   "id": "65ac8b61",
   "metadata": {},
   "source": [
    "### Quick check 5\n",
    "\n",
    "Controlling for how Democratic-leaning the district was in the 2016 Presidential election, _and_ how they performed in the last election, regress the Democratic vote share in 2020 (outcome variable) against Democratic house spending in 2020 (predictor variable)."
   ]
  },
  {
   "cell_type": "code",
   "execution_count": null,
   "id": "4ea5080f-5d94-4f56-9f5b-5233b10584c4",
   "metadata": {},
   "outputs": [],
   "source": [
    "summary(lm(...))"
   ]
  },
  {
   "cell_type": "markdown",
   "id": "ab866695",
   "metadata": {},
   "source": [
    "### Quick check 6 \n",
    "\n",
    "Let's interpret the estimate next to `spending_dem_ushouse_2020` - what does it mean?"
   ]
  },
  {
   "cell_type": "markdown",
   "id": "cba69ae1",
   "metadata": {},
   "source": [
    "..."
   ]
  },
  {
   "cell_type": "markdown",
   "id": "dd49a582",
   "metadata": {},
   "source": [
    "### Quick check 7\n",
    "\n",
    "Evaluate the following claim: including more control variables eliminates OVB. True or False? And why?"
   ]
  },
  {
   "cell_type": "markdown",
   "id": "57490219",
   "metadata": {},
   "source": [
    "..."
   ]
  }
 ],
 "metadata": {
  "kernelspec": {
   "display_name": "R",
   "language": "R",
   "name": "ir"
  },
  "language_info": {
   "codemirror_mode": "r",
   "file_extension": ".r",
   "mimetype": "text/x-r-source",
   "name": "R",
   "pygments_lexer": "r",
   "version": "4.3.2"
  }
 },
 "nbformat": 4,
 "nbformat_minor": 5
}
